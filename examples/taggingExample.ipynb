{
 "cells": [
  {
   "cell_type": "code",
   "execution_count": 14,
   "id": "4b341c1b-7283-40de-964c-073a8e9523de",
   "metadata": {},
   "outputs": [],
   "source": [
    "#Downloading SDG Vocabulary"
   ]
  },
  {
   "cell_type": "code",
   "execution_count": 1,
   "id": "6bff45c8-3b16-44a3-b1da-2c71db3ccd5e",
   "metadata": {},
   "outputs": [
    {
     "data": {
      "text/plain": [
       "206519"
      ]
     },
     "execution_count": 1,
     "metadata": {},
     "output_type": "execute_result"
    }
   ],
   "source": [
    "import requests\n",
    "\n",
    "r=requests.get(\"https://zenodo.org/record/3567769/files/sdg_vocabulary_V1.2%20%5Bzenodo%5D.xlsx?download=1\")\n",
    "\n",
    "open(\"vocabularies_sdgs.xlsx\",\"wb\").write(r.content)"
   ]
  },
  {
   "cell_type": "code",
   "execution_count": 4,
   "id": "913f7e9c-ee91-4ee5-8dae-fd4bb98094ad",
   "metadata": {},
   "outputs": [
    {
     "data": {
      "text/html": [
       "<div>\n",
       "<style scoped>\n",
       "    .dataframe tbody tr th:only-of-type {\n",
       "        vertical-align: middle;\n",
       "    }\n",
       "\n",
       "    .dataframe tbody tr th {\n",
       "        vertical-align: top;\n",
       "    }\n",
       "\n",
       "    .dataframe thead th {\n",
       "        text-align: right;\n",
       "    }\n",
       "</style>\n",
       "<table border=\"1\" class=\"dataframe\">\n",
       "  <thead>\n",
       "    <tr style=\"text-align: right;\">\n",
       "      <th></th>\n",
       "      <th>ID</th>\n",
       "      <th>keyword</th>\n",
       "      <th>extra</th>\n",
       "    </tr>\n",
       "  </thead>\n",
       "  <tbody>\n",
       "    <tr>\n",
       "      <th>0</th>\n",
       "      <td>822c17078b85520a37070e75c42317e4</td>\n",
       "      <td>abortion</td>\n",
       "      <td>health quality|welfare|health systems|wellbein...</td>\n",
       "    </tr>\n",
       "    <tr>\n",
       "      <th>1</th>\n",
       "      <td>9d1ddfd1a92ad1d9f25bc3f62f8534a9</td>\n",
       "      <td>aboulia</td>\n",
       "      <td>NaN</td>\n",
       "    </tr>\n",
       "    <tr>\n",
       "      <th>2</th>\n",
       "      <td>639605ce89f5bc88cfa83d370e7f93a2</td>\n",
       "      <td>access to health-care services</td>\n",
       "      <td>NaN</td>\n",
       "    </tr>\n",
       "    <tr>\n",
       "      <th>3</th>\n",
       "      <td>09d27ae2ee8770a20e8a59bb555cbf78</td>\n",
       "      <td>acetaldehyde</td>\n",
       "      <td>NaN</td>\n",
       "    </tr>\n",
       "    <tr>\n",
       "      <th>4</th>\n",
       "      <td>b8a9360c6035a79ce6c3c85386b3234b</td>\n",
       "      <td>acetonitrile</td>\n",
       "      <td>health quality|welfare|health systems|wellbein...</td>\n",
       "    </tr>\n",
       "    <tr>\n",
       "      <th>...</th>\n",
       "      <td>...</td>\n",
       "      <td>...</td>\n",
       "      <td>...</td>\n",
       "    </tr>\n",
       "    <tr>\n",
       "      <th>616</th>\n",
       "      <td>c11578967d3e0d412d93b77dec078a15</td>\n",
       "      <td>zaire ebolavirus</td>\n",
       "      <td>NaN</td>\n",
       "    </tr>\n",
       "    <tr>\n",
       "      <th>617</th>\n",
       "      <td>3c3f24a697a7e537651c88fa38e4e6a4</td>\n",
       "      <td>zika fever</td>\n",
       "      <td>NaN</td>\n",
       "    </tr>\n",
       "    <tr>\n",
       "      <th>618</th>\n",
       "      <td>48fbc4224ab8d2c81b389e94c39429a2</td>\n",
       "      <td>zika virus</td>\n",
       "      <td>NaN</td>\n",
       "    </tr>\n",
       "    <tr>\n",
       "      <th>619</th>\n",
       "      <td>e41cc8c502c74816929a14faf7fdbe31</td>\n",
       "      <td>zmapp</td>\n",
       "      <td>NaN</td>\n",
       "    </tr>\n",
       "    <tr>\n",
       "      <th>620</th>\n",
       "      <td>cece1758a59d941d87fbf012b5611e32</td>\n",
       "      <td>zoonotic disease</td>\n",
       "      <td>NaN</td>\n",
       "    </tr>\n",
       "  </tbody>\n",
       "</table>\n",
       "<p>621 rows × 3 columns</p>\n",
       "</div>"
      ],
      "text/plain": [
       "                                   ID                         keyword  \\\n",
       "0    822c17078b85520a37070e75c42317e4                        abortion   \n",
       "1    9d1ddfd1a92ad1d9f25bc3f62f8534a9                         aboulia   \n",
       "2    639605ce89f5bc88cfa83d370e7f93a2  access to health-care services   \n",
       "3    09d27ae2ee8770a20e8a59bb555cbf78                    acetaldehyde   \n",
       "4    b8a9360c6035a79ce6c3c85386b3234b                    acetonitrile   \n",
       "..                                ...                             ...   \n",
       "616  c11578967d3e0d412d93b77dec078a15                zaire ebolavirus   \n",
       "617  3c3f24a697a7e537651c88fa38e4e6a4                      zika fever   \n",
       "618  48fbc4224ab8d2c81b389e94c39429a2                      zika virus   \n",
       "619  e41cc8c502c74816929a14faf7fdbe31                           zmapp   \n",
       "620  cece1758a59d941d87fbf012b5611e32                zoonotic disease   \n",
       "\n",
       "                                                 extra  \n",
       "0    health quality|welfare|health systems|wellbein...  \n",
       "1                                                  NaN  \n",
       "2                                                  NaN  \n",
       "3                                                  NaN  \n",
       "4    health quality|welfare|health systems|wellbein...  \n",
       "..                                                 ...  \n",
       "616                                                NaN  \n",
       "617                                                NaN  \n",
       "618                                                NaN  \n",
       "619                                                NaN  \n",
       "620                                                NaN  \n",
       "\n",
       "[621 rows x 3 columns]"
      ]
     },
     "execution_count": 4,
     "metadata": {},
     "output_type": "execute_result"
    }
   ],
   "source": [
    "import pandas as pd\n",
    "voc=pd.read_excel(\"vocabularies_sdgs.xlsx\",sheet_name=\"SDG 3\")[[\"ID\",\"keyword\",\"extra\"]]\n",
    "voc"
   ]
  },
  {
   "cell_type": "code",
   "execution_count": null,
   "id": "6febc819-eb47-4eda-b8e7-9aa7b67dfd02",
   "metadata": {},
   "outputs": [],
   "source": [
    "# Tag Single Text"
   ]
  },
  {
   "cell_type": "code",
   "execution_count": 5,
   "id": "d72dfb04-22ed-4a56-83a8-97d3f4e21d73",
   "metadata": {},
   "outputs": [
    {
     "data": {
      "text/plain": [
       "['37034206b5df9bb5ae4d679c8f21a301', 'c84e6d80dc8719158f3867b7521ec74f']"
      ]
     },
     "execution_count": 5,
     "metadata": {},
     "output_type": "execute_result"
    }
   ],
   "source": [
    "import VocTagger as vt\n",
    "import pandas as pd\n",
    "\n",
    "tagger = vt.VocTagger(voc)\n",
    "\n",
    "txtToTag=\"\"\"\n",
    "Ensuring healthy lives and promoting well-being at all ages is essential to sustainable development.\n",
    "Currently, the world is facing a global health crisis unlike any other — COVID-19 is spreading human suffering, \n",
    "destabilizing the global economy and upending the lives of billions of people around the globe.\n",
    "Before the pandemic, major progress was made in improving the health of millions of people. \n",
    "Significant strides were made in increasing life expectancy and reducing some of the common killers associated \n",
    "with child and maternal mortality. But more efforts are needed to fully eradicate a wide range of diseases and address many different persistent \n",
    "and emerging health issues. By focusing on providing more efficient funding of health systems, improved sanitation and hygiene, \n",
    "and increased access to physicians, significant progress can be made in helping to save the lives of millions.\n",
    "\"\"\"\n",
    "\n",
    "kwIdFounded = tagger.tagText(txtToTag)\n",
    "kwIdFounded #It contains the keywords ID founded in the text"
   ]
  },
  {
   "cell_type": "code",
   "execution_count": 6,
   "id": "eb4492d8-e43b-417e-976c-bf451261dc73",
   "metadata": {},
   "outputs": [
    {
     "data": {
      "text/html": [
       "<div>\n",
       "<style scoped>\n",
       "    .dataframe tbody tr th:only-of-type {\n",
       "        vertical-align: middle;\n",
       "    }\n",
       "\n",
       "    .dataframe tbody tr th {\n",
       "        vertical-align: top;\n",
       "    }\n",
       "\n",
       "    .dataframe thead th {\n",
       "        text-align: right;\n",
       "    }\n",
       "</style>\n",
       "<table border=\"1\" class=\"dataframe\">\n",
       "  <thead>\n",
       "    <tr style=\"text-align: right;\">\n",
       "      <th></th>\n",
       "      <th>ID</th>\n",
       "      <th>keyword</th>\n",
       "      <th>extra</th>\n",
       "    </tr>\n",
       "  </thead>\n",
       "  <tbody>\n",
       "    <tr>\n",
       "      <th>0</th>\n",
       "      <td>37034206b5df9bb5ae4d679c8f21a301</td>\n",
       "      <td>maternal mortality</td>\n",
       "      <td>NaN</td>\n",
       "    </tr>\n",
       "    <tr>\n",
       "      <th>1</th>\n",
       "      <td>c84e6d80dc8719158f3867b7521ec74f</td>\n",
       "      <td>increasing life expectancy</td>\n",
       "      <td>NaN</td>\n",
       "    </tr>\n",
       "  </tbody>\n",
       "</table>\n",
       "</div>"
      ],
      "text/plain": [
       "                                 ID                     keyword extra\n",
       "0  37034206b5df9bb5ae4d679c8f21a301          maternal mortality   NaN\n",
       "1  c84e6d80dc8719158f3867b7521ec74f  increasing life expectancy   NaN"
      ]
     },
     "execution_count": 6,
     "metadata": {},
     "output_type": "execute_result"
    }
   ],
   "source": [
    "voc.set_index(\"ID\").loc[kwIdFounded].reset_index() #Showing the keyword getting them by the ID"
   ]
  },
  {
   "cell_type": "code",
   "execution_count": null,
   "id": "9cae8d53-e50d-4d4e-9ed7-317f68cf6d76",
   "metadata": {},
   "outputs": [],
   "source": [
    "# Tag a collection of texts"
   ]
  },
  {
   "cell_type": "code",
   "execution_count": 7,
   "id": "3ab84602-fabd-409d-8655-9363afb8ebb3",
   "metadata": {},
   "outputs": [
    {
     "data": {
      "text/html": [
       "<div>\n",
       "<style scoped>\n",
       "    .dataframe tbody tr th:only-of-type {\n",
       "        vertical-align: middle;\n",
       "    }\n",
       "\n",
       "    .dataframe tbody tr th {\n",
       "        vertical-align: top;\n",
       "    }\n",
       "\n",
       "    .dataframe thead th {\n",
       "        text-align: right;\n",
       "    }\n",
       "</style>\n",
       "<table border=\"1\" class=\"dataframe\">\n",
       "  <thead>\n",
       "    <tr style=\"text-align: right;\">\n",
       "      <th></th>\n",
       "      <th>idText</th>\n",
       "      <th>ID</th>\n",
       "      <th>index</th>\n",
       "      <th>keyword</th>\n",
       "      <th>extra</th>\n",
       "    </tr>\n",
       "  </thead>\n",
       "  <tbody>\n",
       "    <tr>\n",
       "      <th>0</th>\n",
       "      <td>ID_1</td>\n",
       "      <td>37034206b5df9bb5ae4d679c8f21a301</td>\n",
       "      <td>355</td>\n",
       "      <td>maternal mortality</td>\n",
       "      <td>NaN</td>\n",
       "    </tr>\n",
       "    <tr>\n",
       "      <th>1</th>\n",
       "      <td>ID_1</td>\n",
       "      <td>c84e6d80dc8719158f3867b7521ec74f</td>\n",
       "      <td>312</td>\n",
       "      <td>increasing life expectancy</td>\n",
       "      <td>NaN</td>\n",
       "    </tr>\n",
       "  </tbody>\n",
       "</table>\n",
       "</div>"
      ],
      "text/plain": [
       "  idText                                ID  index                     keyword  \\\n",
       "0   ID_1  37034206b5df9bb5ae4d679c8f21a301    355          maternal mortality   \n",
       "1   ID_1  c84e6d80dc8719158f3867b7521ec74f    312  increasing life expectancy   \n",
       "\n",
       "  extra  \n",
       "0   NaN  \n",
       "1   NaN  "
      ]
     },
     "execution_count": 7,
     "metadata": {},
     "output_type": "execute_result"
    }
   ],
   "source": [
    "import VocTagger as vt\n",
    "import pandas as pd\n",
    "\n",
    "tagger = vt.VocTagger(voc)\n",
    "\n",
    "df=pd.DataFrame({\n",
    "    \"text\":[\"\"\" Ensuring healthy lives and promoting well-being at all ages is essential to sustainable development.\n",
    "        Currently, the world is facing a global health crisis unlike any other — COVID-19 is spreading human suffering, \n",
    "        destabilizing the global economy and upending the lives of billions of people around the globe.\n",
    "        Before the pandemic, major progress was made in improving the health of millions of people. \n",
    "        Significant strides were made in increasing life expectancy and reducing some of the common killers associated \n",
    "        with child and maternal mortality. But more efforts are needed to fully eradicate a wide range of diseases and address many different persistent \n",
    "        and emerging health issues. By focusing on providing more efficient funding of health systems, improved sanitation and hygiene, \n",
    "        and increased access to physicians, significant progress can be made in helping to save the lives of millions.\"\"\",\n",
    "            \n",
    "        \"\"\"One of the first indicators of incipient Alzheimer’s disease (AD) is the development of MCI. Subtle, \n",
    "        hard-to-detect changes in the brain accompany MCI as the condition advances.\n",
    "        Now, a study from researchers at Kaunas University of Technology (KTU) in Lithuania presents a \n",
    "        newly developed deep-learning computer algorithm that can accurately detect and differentiate \n",
    "        the stages of MCI from fMRI scans.\n",
    "        \"\"\"   \n",
    "           ],\n",
    "    \"idText\":[\"ID_1\",\n",
    "              \n",
    "              \"ID_2\"]\n",
    "    \n",
    "})\n",
    "\n",
    "tagger.tagTextCollection(df, text_id='idText', text_column='text', n_cores=4).reset_index()"
   ]
  }
 ],
 "metadata": {
  "kernelspec": {
   "display_name": "Python 3",
   "language": "python",
   "name": "python3"
  },
  "language_info": {
   "codemirror_mode": {
    "name": "ipython",
    "version": 3
   },
   "file_extension": ".py",
   "mimetype": "text/x-python",
   "name": "python",
   "nbconvert_exporter": "python",
   "pygments_lexer": "ipython3",
   "version": "3.8.8"
  }
 },
 "nbformat": 4,
 "nbformat_minor": 5
}
